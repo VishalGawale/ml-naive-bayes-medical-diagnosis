{
 "cells": [
  {
   "cell_type": "code",
   "execution_count": 5,
   "metadata": {},
   "outputs": [],
   "source": [
    "# Import necessary libraries\n",
    "import pandas as pd\n",
    "from sklearn.model_selection import train_test_split\n",
    "from sklearn.metrics import confusion_matrix\n",
    "import matplotlib.pyplot as plt\n",
    "import seaborn as sns\n",
    "from naiver_bayes_klassifizierer import NaiveBayes  # Assuming you have the NaiveBayes class in a separate .py file"
   ]
  },
  {
   "cell_type": "code",
   "execution_count": 6,
   "metadata": {},
   "outputs": [],
   "source": [
    "# Load dataset\n",
    "df = pd.read_csv('inflammation_diagnosis.csv', delimiter=';')"
   ]
  },
  {
   "cell_type": "code",
   "execution_count": 7,
   "metadata": {},
   "outputs": [
    {
     "name": "stdout",
     "output_type": "stream",
     "text": [
      "First few rows of the dataset:\n",
      "   temperature nausea lumbar_pain urine_pushing micturition_pains  \\\n",
      "0         35.5     no         yes            no                no   \n",
      "1         35.9     no          no           yes               yes   \n",
      "2         35.9     no         yes            no                no   \n",
      "3         36.0     no          no           yes               yes   \n",
      "4         36.0     no         yes            no                no   \n",
      "\n",
      "  burning_of_urethra inflammation nephritis  \n",
      "0                 no           no        no  \n",
      "1                yes          yes        no  \n",
      "2                 no           no        no  \n",
      "3                yes          yes        no  \n",
      "4                 no           no        no  \n"
     ]
    }
   ],
   "source": [
    "# Showing few rows of the dataset to understand the data\n",
    "print(\"First few rows of the dataset:\")\n",
    "print(df.head())"
   ]
  },
  {
   "cell_type": "code",
   "execution_count": 8,
   "metadata": {},
   "outputs": [
    {
     "name": "stdout",
     "output_type": "stream",
     "text": [
      "Index(['temperature', 'nausea', 'lumbar_pain', 'urine_pushing',\n",
      "       'micturition_pains', 'burning_of_urethra', 'inflammation', 'nephritis'],\n",
      "      dtype='object')\n"
     ]
    }
   ],
   "source": [
    "# Displaying the columns of the dataset\n",
    "print(df.columns)"
   ]
  },
  {
   "cell_type": "code",
   "execution_count": 9,
   "metadata": {},
   "outputs": [],
   "source": [
    "# Step 1: Create 'disease' column\n",
    "# If either 'inflammation' or 'nephritis' is True, the person has a disease\n",
    "df['disease'] = df.apply(lambda row: row['inflammation'] or row['nephritis'], axis=1)"
   ]
  },
  {
   "cell_type": "code",
   "execution_count": 10,
   "metadata": {},
   "outputs": [],
   "source": [
    "# Drop original 'inflammation' and 'nephritis' columns now they are combined\n",
    "df.drop(columns=['inflammation', 'nephritis'], inplace=True)"
   ]
  },
  {
   "cell_type": "code",
   "execution_count": 11,
   "metadata": {},
   "outputs": [
    {
     "name": "stdout",
     "output_type": "stream",
     "text": [
      "\n",
      "Data after adding 'disease' column and dropping 'inflammation' and 'nephritis':\n",
      "   temperature nausea lumbar_pain urine_pushing micturition_pains  \\\n",
      "0         35.5     no         yes            no                no   \n",
      "1         35.9     no          no           yes               yes   \n",
      "2         35.9     no         yes            no                no   \n",
      "3         36.0     no          no           yes               yes   \n",
      "4         36.0     no         yes            no                no   \n",
      "\n",
      "  burning_of_urethra disease  \n",
      "0                 no      no  \n",
      "1                yes     yes  \n",
      "2                 no      no  \n",
      "3                yes     yes  \n",
      "4                 no      no  \n"
     ]
    }
   ],
   "source": [
    "# Showing first few row after processing the data\n",
    "print(\"\\nData after adding 'disease' column and dropping 'inflammation' and 'nephritis':\")\n",
    "print(df.head())"
   ]
  },
  {
   "cell_type": "code",
   "execution_count": 12,
   "metadata": {},
   "outputs": [],
   "source": [
    "# Step 2:Seprate data into features and target\n",
    "X = df.drop(columns=['disease'])  # features (all columns except 'disease')\n",
    "y = df['disease']  # target (the 'disease' column)"
   ]
  },
  {
   "cell_type": "code",
   "execution_count": 13,
   "metadata": {},
   "outputs": [],
   "source": [
    "# Step 3: Split data into training and testing sets [80% train, 20% test]\n",
    "X_train, X_test, y_train, y_test = train_test_split(X, y, test_size=0.2, random_state=42)"
   ]
  },
  {
   "cell_type": "code",
   "execution_count": 14,
   "metadata": {},
   "outputs": [
    {
     "name": "stdout",
     "output_type": "stream",
     "text": [
      "\n",
      "Training data size: 96 samples\n",
      "Test data size: 24 samples\n"
     ]
    }
   ],
   "source": [
    "# Showing size of training and testing data\n",
    "print(f\"\\nTraining data size: {X_train.shape[0]} samples\")\n",
    "print(f\"Test data size: {X_test.shape[0]} samples\")"
   ]
  },
  {
   "cell_type": "code",
   "execution_count": 15,
   "metadata": {},
   "outputs": [],
   "source": [
    "# Step 4: Initialize and train Naive_Bayes model\n",
    "nb = NaiveBayes()\n",
    "nb.fit(X_train, y_train)"
   ]
  },
  {
   "cell_type": "code",
   "execution_count": 16,
   "metadata": {},
   "outputs": [
    {
     "name": "stdout",
     "output_type": "stream",
     "text": [
      "\n",
      "Model accuracy on the test set: 91.67%\n"
     ]
    }
   ],
   "source": [
    "# Step 5: Evaluting model on the test set\n",
    "accuracy = nb.evaluate_on_data(X_test, y_test)\n",
    "print(f\"\\nModel accuracy on the test set: {accuracy * 100:.2f}%\")"
   ]
  },
  {
   "cell_type": "code",
   "execution_count": 17,
   "metadata": {},
   "outputs": [],
   "source": [
    "# Step 6: Predicting on test set\n",
    "y_pred = nb.predict(X_test)"
   ]
  },
  {
   "cell_type": "code",
   "execution_count": 18,
   "metadata": {},
   "outputs": [],
   "source": [
    "# Step 7: Calculating confusion matrix\n",
    "cm = confusion_matrix(y_test, y_pred)\n"
   ]
  },
  {
   "cell_type": "code",
   "execution_count": 19,
   "metadata": {},
   "outputs": [
    {
     "data": {
      "image/png": "[encoded data removed]",
      "text/plain": [
       "<Figure size 600x400 with 1 Axes>"
      ]
     },
     "metadata": {},
     "output_type": "display_data"
    }
   ],
   "source": [
    "# Step 8: Ploting confusion matrix using seaborn\n",
    "plt.figure(figsize=(6,4))\n",
    "sns.heatmap(cm, annot=True, fmt=\"d\", cmap=\"Blues\", cbar=False)\n",
    "plt.xlabel('Predicted Label')\n",
    "plt.ylabel('True Label')\n",
    "plt.title('Confusion Matrix')\n",
    "plt.show()"
   ]
  }
 ],
 "metadata": {
  "kernelspec": {
   "display_name": "Python 3",
   "language": "python",
   "name": "python3"
  },
  "language_info": {
   "codemirror_mode": {
    "name": "ipython",
    "version": 3
   },
   "file_extension": ".py",
   "mimetype": "text/x-python",
   "name": "python",
   "nbconvert_exporter": "python",
   "pygments_lexer": "ipython3",
   "version": "3.12.3"
  }
 },
 "nbformat": 4,
 "nbformat_minor": 2
}
